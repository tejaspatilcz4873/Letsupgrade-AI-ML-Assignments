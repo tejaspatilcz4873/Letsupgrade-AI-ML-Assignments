{
 "cells": [
  {
   "cell_type": "markdown",
   "metadata": {},
   "source": [
    "# Question 1\n",
    "Research on whether addition, substraction, multiplication, division, floor division can be performed on complex nos. Based on your study implement a python program to demonstrate this."
   ]
  },
  {
   "cell_type": "code",
   "execution_count": 5,
   "metadata": {},
   "outputs": [
    {
     "name": "stdout",
     "output_type": "stream",
     "text": [
      "Enter the Real part of first complex no. :2\n",
      "Enter the imaginary part of first complex no. :3\n",
      "Enter the Real part of second complex no. :4\n",
      "Enter the imaginary part of second complex no. :5\n",
      "Addition = (6+8j)\n",
      "Substraction = (-2-2j)\n",
      "Multiplication = (-7+22j)\n",
      "Division = (0.5609756097560976+0.0487804878048781j)\n"
     ]
    },
    {
     "ename": "TypeError",
     "evalue": "can't take floor of complex number.",
     "output_type": "error",
     "traceback": [
      "\u001b[1;31m---------------------------------------------------------------------------\u001b[0m",
      "\u001b[1;31mTypeError\u001b[0m                                 Traceback (most recent call last)",
      "\u001b[1;32m<ipython-input-5-00f159887d75>\u001b[0m in \u001b[0;36m<module>\u001b[1;34m\u001b[0m\n\u001b[0;32m     14\u001b[0m     \u001b[0mprint\u001b[0m\u001b[1;33m(\u001b[0m\u001b[1;34m\"Division =\"\u001b[0m\u001b[1;33m,\u001b[0m\u001b[0me\u001b[0m\u001b[1;33m/\u001b[0m\u001b[0mf\u001b[0m\u001b[1;33m)\u001b[0m\u001b[1;33m\u001b[0m\u001b[1;33m\u001b[0m\u001b[0m\n\u001b[0;32m     15\u001b[0m     \u001b[0mprint\u001b[0m\u001b[1;33m(\u001b[0m\u001b[1;34m\"Floor Division =\"\u001b[0m\u001b[1;33m,\u001b[0m\u001b[0me\u001b[0m\u001b[1;33m//\u001b[0m\u001b[0mf\u001b[0m\u001b[1;33m)\u001b[0m\u001b[1;33m\u001b[0m\u001b[1;33m\u001b[0m\u001b[0m\n\u001b[1;32m---> 16\u001b[1;33m \u001b[0mcomplex_nos\u001b[0m\u001b[1;33m(\u001b[0m\u001b[1;33m)\u001b[0m\u001b[1;33m\u001b[0m\u001b[1;33m\u001b[0m\u001b[0m\n\u001b[0m",
      "\u001b[1;32m<ipython-input-5-00f159887d75>\u001b[0m in \u001b[0;36mcomplex_nos\u001b[1;34m()\u001b[0m\n\u001b[0;32m     13\u001b[0m     \u001b[0mprint\u001b[0m\u001b[1;33m(\u001b[0m\u001b[1;34m\"Multiplication =\"\u001b[0m\u001b[1;33m,\u001b[0m\u001b[0me\u001b[0m\u001b[1;33m*\u001b[0m\u001b[0mf\u001b[0m\u001b[1;33m)\u001b[0m\u001b[1;33m\u001b[0m\u001b[1;33m\u001b[0m\u001b[0m\n\u001b[0;32m     14\u001b[0m     \u001b[0mprint\u001b[0m\u001b[1;33m(\u001b[0m\u001b[1;34m\"Division =\"\u001b[0m\u001b[1;33m,\u001b[0m\u001b[0me\u001b[0m\u001b[1;33m/\u001b[0m\u001b[0mf\u001b[0m\u001b[1;33m)\u001b[0m\u001b[1;33m\u001b[0m\u001b[1;33m\u001b[0m\u001b[0m\n\u001b[1;32m---> 15\u001b[1;33m     \u001b[0mprint\u001b[0m\u001b[1;33m(\u001b[0m\u001b[1;34m\"Floor Division =\"\u001b[0m\u001b[1;33m,\u001b[0m\u001b[0me\u001b[0m\u001b[1;33m//\u001b[0m\u001b[0mf\u001b[0m\u001b[1;33m)\u001b[0m\u001b[1;33m\u001b[0m\u001b[1;33m\u001b[0m\u001b[0m\n\u001b[0m\u001b[0;32m     16\u001b[0m \u001b[0mcomplex_nos\u001b[0m\u001b[1;33m(\u001b[0m\u001b[1;33m)\u001b[0m\u001b[1;33m\u001b[0m\u001b[1;33m\u001b[0m\u001b[0m\n",
      "\u001b[1;31mTypeError\u001b[0m: can't take floor of complex number."
     ]
    }
   ],
   "source": [
    "import cmath\n",
    "def complex_nos():\n",
    "    a = int(input(\"Enter the Real part of first complex no. :\"))\n",
    "    b = int(input(\"Enter the imaginary part of first complex no. :\"))\n",
    "    c = int(input(\"Enter the Real part of second complex no. :\"))\n",
    "    d = int(input(\"Enter the imaginary part of second complex no. :\"))\n",
    "    \n",
    "    e = complex(a,b)\n",
    "    f = complex(c,d)\n",
    "    \n",
    "    print(\"Addition =\",e+f)\n",
    "    print(\"Substraction =\",e-f)\n",
    "    print(\"Multiplication =\",e*f)\n",
    "    print(\"Division =\",e/f)\n",
    "    print(\"Floor Division =\",e//f) # Floor division of complex nos. is not allowed. So this line would generate error\n",
    "complex_nos()"
   ]
  },
  {
   "cell_type": "markdown",
   "metadata": {},
   "source": [
    "# Question 2\n",
    "Reearch on range functions and its parameters. Create a markdown cell and write in your own words what you understand by it. Also implement a small program on the same."
   ]
  },
  {
   "cell_type": "markdown",
   "metadata": {},
   "source": [
    "Answer :\n",
    "The built-in function range() generates the integer numbers between the given start integer to the stop integer, i.e., It returns a range object. Using for loop, we can iterate over a sequence of numbers produced by the range() function.\n",
    "It takes three arguments. Out of the three 2 arguments are optional. I.e., start and step are the optional arguments.\n",
    "Syntax of ranfe function is range(start,stop,step). range() only works with the integers. All arguments must be integers.A start argument is a starting number of the sequence. i.e., lower limit. By default, it    starts with 0 if not specified.A stop argument is an upper limit. i.e., generate numbers up to this number, The range() doesn’t include this number in the result.The step is a difference between each number in the result. The default value of the step is 1 if not specified.\n",
    "The step value must not be zero. If a step is zero Python raises a ValueError exception.\n",
    "\n",
    " "
   ]
  },
  {
   "cell_type": "code",
   "execution_count": 6,
   "metadata": {},
   "outputs": [
    {
     "name": "stdout",
     "output_type": "stream",
     "text": [
      "2\n",
      "5\n",
      "8\n",
      "11\n",
      "14\n",
      "17\n",
      "20\n",
      "23\n",
      "26\n",
      "29\n"
     ]
    }
   ],
   "source": [
    "for i in range(2,30,3):\n",
    "    print(i)"
   ]
  },
  {
   "cell_type": "markdown",
   "metadata": {},
   "source": [
    "# Question 3\n",
    "Consider two nos. Perform their substraction and if the result of substraction is greater than 25, print their multiplication else print their division."
   ]
  },
  {
   "cell_type": "code",
   "execution_count": 9,
   "metadata": {},
   "outputs": [
    {
     "name": "stdout",
     "output_type": "stream",
     "text": [
      "Enter the first number(a) :78\n",
      "Enter the second number(b) :22\n",
      "a*b = 1716\n"
     ]
    }
   ],
   "source": [
    "a = int(input(\"Enter the first number(a) :\"))\n",
    "b = int(input(\"Enter the second number(b) :\"))\n",
    "c = a - b\n",
    "if c > 25:\n",
    "    print(\"a*b =\",a*b)\n",
    "else:\n",
    "    print(\"a/b =\",a/b)"
   ]
  },
  {
   "cell_type": "markdown",
   "metadata": {},
   "source": [
    "# Question 4\n",
    "Consider a list of integers of ten elements. If the number in the list is divisible by 2, print the result as \" square of that number minus 2\""
   ]
  },
  {
   "cell_type": "code",
   "execution_count": 11,
   "metadata": {},
   "outputs": [
    {
     "name": "stdout",
     "output_type": "stream",
     "text": [
      "Updated Result = 2\n",
      "Updated Result = 14\n",
      "Result = 5\n",
      "Updated Result = 14\n",
      "Updated Result = 34\n",
      "Updated Result = 6082\n",
      "Result = 45\n",
      "Result = 43\n",
      "Updated Result = 7394\n",
      "Result = 91\n"
     ]
    }
   ],
   "source": [
    "n = [2,4,5,4,6,78,45,43,86,91]\n",
    "for i in n:\n",
    "    if i%2 == 0:\n",
    "        print('Updated Result =',(i**2)-2)\n",
    "    else:\n",
    "        print(\"Result =\",i)"
   ]
  },
  {
   "cell_type": "markdown",
   "metadata": {},
   "source": [
    "# Question 5\n",
    "Consider a list of ten integer elements. Print all elemnts in the list that are greater than 7 when divide by 2. "
   ]
  },
  {
   "cell_type": "code",
   "execution_count": 15,
   "metadata": {},
   "outputs": [
    {
     "name": "stdout",
     "output_type": "stream",
     "text": [
      "Condition not satisfied by 2\n",
      "COndition satisfied by 41\n",
      "Condition not satisfied by 5\n",
      "Condition not satisfied by 4\n",
      "Condition not satisfied by 6\n",
      "COndition satisfied by 78\n",
      "COndition satisfied by 45\n",
      "COndition satisfied by 43\n",
      "COndition satisfied by 86\n",
      "COndition satisfied by 91\n"
     ]
    }
   ],
   "source": [
    "n = [2,41,5,4,6,78,45,43,86,91]\n",
    "for i in n:\n",
    "    if (i/2) > 7:\n",
    "        print('COndition satisfied by',i)\n",
    "    else:\n",
    "        print('Condition not satisfied by',i)"
   ]
  },
  {
   "cell_type": "code",
   "execution_count": null,
   "metadata": {},
   "outputs": [],
   "source": []
  }
 ],
 "metadata": {
  "kernelspec": {
   "display_name": "Python 3",
   "language": "python",
   "name": "python3"
  },
  "language_info": {
   "codemirror_mode": {
    "name": "ipython",
    "version": 3
   },
   "file_extension": ".py",
   "mimetype": "text/x-python",
   "name": "python",
   "nbconvert_exporter": "python",
   "pygments_lexer": "ipython3",
   "version": "3.7.6"
  }
 },
 "nbformat": 4,
 "nbformat_minor": 4
}

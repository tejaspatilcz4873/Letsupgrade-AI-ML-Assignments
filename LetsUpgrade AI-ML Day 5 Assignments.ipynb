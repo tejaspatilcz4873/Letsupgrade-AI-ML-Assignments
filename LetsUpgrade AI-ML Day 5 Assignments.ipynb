{
 "cells": [
  {
   "cell_type": "markdown",
   "metadata": {},
   "source": [
    "# Question 1\n",
    "Write a program to find the first 20 non-even prime nos."
   ]
  },
  {
   "cell_type": "code",
   "execution_count": 14,
   "metadata": {},
   "outputs": [
    {
     "name": "stdout",
     "output_type": "stream",
     "text": [
      "3 is the prime no.\n",
      "5 is the prime no.\n",
      "7 is the prime no.\n",
      "11 is the prime no.\n",
      "13 is the prime no.\n",
      "17 is the prime no.\n",
      "19 is the prime no.\n",
      "23 is the prime no.\n",
      "29 is the prime no.\n",
      "31 is the prime no.\n",
      "37 is the prime no.\n",
      "41 is the prime no.\n",
      "43 is the prime no.\n",
      "47 is the prime no.\n",
      "53 is the prime no.\n",
      "59 is the prime no.\n",
      "61 is the prime no.\n",
      "67 is the prime no.\n",
      "71 is the prime no.\n",
      "73 is the prime no.\n"
     ]
    }
   ],
   "source": [
    "# Program to find the first 20 non-even prime nos.\n",
    "count = 0\n",
    "i = 1\n",
    "while count < 20:\n",
    "    i = i + 1\n",
    "    if i%2 ==1:\n",
    "        factor_count = 0\n",
    "        for j in range(1,i+1):\n",
    "            if i%j == 0:\n",
    "                factor_count = factor_count + 1\n",
    "        if factor_count < 3:\n",
    "            print(i,\"is the prime no.\")\n",
    "            count = count + 1\n",
    "    "
   ]
  },
  {
   "cell_type": "markdown",
   "metadata": {},
   "source": [
    "# Question 2\n",
    "Write a program to implement 15 functions of string."
   ]
  },
  {
   "cell_type": "code",
   "execution_count": 28,
   "metadata": {},
   "outputs": [
    {
     "name": "stdout",
     "output_type": "stream",
     "text": [
      "Hello, Tejas here!!\n",
      "First character of first string is : H\n",
      "Slice [0:-2] =  Hello, Tejas here\n",
      "Reverse using slicing:  !!ereh sajeT ,olleH\n",
      "Even index:  Hlo ea ee!\n",
      "['Hello,', 'Tejas', 'here!!']\n",
      "Hello, Tejas here!!Hi, Let us learn strings in Python\n",
      "HELLO, TEJAS HERE!!\n",
      "hello, tejas here!!\n",
      "7\n",
      "Hello, Vaishnav here!!\n"
     ]
    }
   ],
   "source": [
    "str1 = 'Hello, Tejas here!!'\n",
    "str2 = 'Hi, Let us learn strings in Python'\n",
    "print(str1)\n",
    "print(\"First character of first string is :\",str1[0]) # Printing character at particular index \n",
    "print('Slice [0:-2] = ', str1[0:-2]) #Slicing 1st to 2nd last character\n",
    "print('Reverse using slicing: ', str1[::-1]) # Reverse slicing\n",
    "print(\"Even index: \", str1[::2])  # splicing to get characters at even index\n",
    "\n",
    "list_of_words = str1.split() # splitting\n",
    "print(list_of_words)\n",
    "\n",
    "print(str1 + str2)\n",
    "print(str1.upper())\n",
    "print(str1.lower())\n",
    "print(str1.find(\"Tejas\"))\n",
    "print(str1.replace(\"Tejas\",\"Vaishnav\"))"
   ]
  },
  {
   "cell_type": "markdown",
   "metadata": {},
   "source": [
    "# Question 3\n",
    "Write a program to check whether given string is a Palindrome or Anagram or none of them. Also display message accordingly."
   ]
  },
  {
   "cell_type": "code",
   "execution_count": 47,
   "metadata": {},
   "outputs": [
    {
     "name": "stdout",
     "output_type": "stream",
     "text": [
      "EARTS doesn't form an Anogram with HEART\n",
      "No, EARTS doesn't form a Palindrome\n",
      "No, EARTS doesn't form a Palindrome\n",
      "No, EARTS doesn't form a Palindrome\n",
      "No, EARTS doesn't form a Palindrome\n",
      "No, EARTS doesn't form a Palindrome\n"
     ]
    }
   ],
   "source": [
    "anagram = 0\n",
    "palindrome = 0\n",
    "def Anogram_check(string1, reference_string):\n",
    "# Strings are sorted and verified\n",
    "    if(sorted(string1)== sorted(reference_string)):\n",
    "        anagram = 1\n",
    "        print(string1,\"forms an Anogram with\",reference_string)\n",
    "    else:\n",
    "        anagram = 0\n",
    "        print(string1,\"doesn't form an Anogram with\",reference_string)\n",
    "def palindrome(string1):\n",
    "    w = \"\" \n",
    "    for i in string1: \n",
    "        w = i + w \n",
    "        if (string1==w): \n",
    "            palindrome = 1\n",
    "            print(\"Yes,\",string1,\"form a Palindrome\")\n",
    "        else:\n",
    "            palindrome = 0\n",
    "            print(\"No,\",string1,\"doesn't form a Palindrome\")\n",
    "def final_check():\n",
    "    if (anagram ==0) and (palindrome==0):\n",
    "        print(string1,\"is neither Anagram nor Palindrome\")    \n",
    "Anogram_check(\"EARTS\",\"HEART\")\n",
    "palindrome(\"EARTS\")\n",
    "final_check()"
   ]
  },
  {
   "cell_type": "markdown",
   "metadata": {},
   "source": [
    "# Question 4\n",
    "Write a python's user defined function that removes all additional characters from the string and finally converts it to lowercase using built-in lower().\n"
   ]
  },
  {
   "cell_type": "code",
   "execution_count": 52,
   "metadata": {},
   "outputs": [
    {
     "name": "stdout",
     "output_type": "stream",
     "text": [
      "['A']\n"
     ]
    }
   ],
   "source": [
    "def remove_additional_characters(str1):\n",
    "    str2 = []\n",
    "    for i in str1:\n",
    "        if i in (\"A\",\"Z\"):\n",
    "            str2.append(i)\n",
    "        elif i in (\"a\",\"z\"):\n",
    "            str2.append(i)\n",
    "    print(str2)\n",
    "remove_additional_characters(\"Anil&\")"
   ]
  },
  {
   "cell_type": "code",
   "execution_count": 54,
   "metadata": {},
   "outputs": [
    {
     "name": "stdout",
     "output_type": "stream",
     "text": [
      "Original String : Hello!!! This is tejaspatil196@gmail.com with 1000$ to spend\n",
      "Resultant list is : Hello This is tejaspatil196gmailcom with 1000 to spend\n"
     ]
    }
   ],
   "source": [
    "# Python3 code to demonstrate  \n",
    "# removal of bad_chars \n",
    "# using join() + generator \n",
    "  \n",
    "# initializing bad_chars_list \n",
    "bad_chars = [';', ':', '!', \"*\",\"#\",\"@\",\"$\",\"%\",\"&\",\"*\",\"(\",\")\",\"-\",\"_\",\"^\",\"+\",\"=\",\"/\",\"?\",\"<\",\">\",\",\",\".\"] \n",
    "  \n",
    "# initializing test string  \n",
    "test_string = \"Hello!!! This is tejaspatil196@gmail.com with 1000$ to spend\"\n",
    "  \n",
    "# printing original string  \n",
    "print (\"Original String : \" + test_string) \n",
    "  \n",
    "# using join() + generator to  \n",
    "# remove bad_chars  \n",
    "test_string = ''.join(i for i in test_string if not i in bad_chars) \n",
    "  \n",
    "# printing resultant string  \n",
    "print (\"Resultant list is : \" + str(test_string)) "
   ]
  },
  {
   "cell_type": "code",
   "execution_count": null,
   "metadata": {},
   "outputs": [],
   "source": []
  }
 ],
 "metadata": {
  "kernelspec": {
   "display_name": "Python 3",
   "language": "python",
   "name": "python3"
  },
  "language_info": {
   "codemirror_mode": {
    "name": "ipython",
    "version": 3
   },
   "file_extension": ".py",
   "mimetype": "text/x-python",
   "name": "python",
   "nbconvert_exporter": "python",
   "pygments_lexer": "ipython3",
   "version": "3.7.6"
  }
 },
 "nbformat": 4,
 "nbformat_minor": 4
}
